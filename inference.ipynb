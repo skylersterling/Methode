{
  "cells": [
    {
      "cell_type": "markdown",
      "metadata": {
        "id": "XihyN20tMdcV"
      },
      "source": [
        "#First, install the required dependencies. As of Q1 of 2023, the latest version of the transformers library is compatible with this model."
      ]
    },
    {
      "cell_type": "code",
      "execution_count": null,
      "metadata": {
        "id": "V9u-gP65KsVV"
      },
      "outputs": [],
      "source": [
        "!pip install --upgrade transformers\n",
        "!pip install -U adapter-transformers\n",
        "!pip install torch torchvision torchaudio\n",
        "!pip install accelerate\n",
        "!pip install gitpython"
      ]
    },
    {
      "cell_type": "markdown",
      "metadata": {
        "id": "Si0nRuoDNb-r"
      },
      "source": [
        "#Import the necessary libraries"
      ]
    },
    {
      "cell_type": "code",
      "execution_count": null,
      "metadata": {
        "id": "S1aECl3iMu1l"
      },
      "outputs": [],
      "source": [
        "from transformers import AutoTokenizer \n",
        "from transformers import AutoModelForCausalLM\n",
        "from transformers import AutoModelWithLMHead, AdapterType, set_seed\n",
        "from transformers.adapters import AdapterConfig\n",
        "from transformers import GPT2LMHeadModel\n",
        "import requests\n",
        "import io\n",
        "import git"
      ]
    },
    {
      "cell_type": "markdown",
      "metadata": {
        "id": "3hlIveCrOw3q"
      },
      "source": [
        "#Download the model"
      ]
    },
    {
      "cell_type": "code",
      "execution_count": null,
      "metadata": {
        "id": "61puMn4DQydK"
      },
      "outputs": [],
      "source": [
        "model = GPT2LMHeadModel.from_pretrained('gpt2-xl', device_map=\"auto\", offload_folder=\"offload\", offload_state_dict=True)\n",
        "tokenizer = AutoTokenizer.from_pretrained(\"gpt2-xl\")\n",
        "model.to('cuda')"
      ]
    },
    {
      "cell_type": "code",
      "execution_count": null,
      "metadata": {
        "id": "V5PX02YXcnVN"
      },
      "outputs": [],
      "source": [
        "!git clone https://huggingface.co/skylersterling/Methode-Adapter\n",
        "\n",
        "git.Repo.clone_from(\"https://huggingface.co/skylersterling/Methode-Adapter\", \"Methode\")\n"
      ]
    },
    {
      "cell_type": "code",
      "execution_count": null,
      "metadata": {
        "id": "rnEtdWNfUuV5"
      },
      "outputs": [],
      "source": [
        "methode = model.load_adapter(\"./Methode\", config=\"./Methode/adapter_config.json\")\n",
        "model.set_active_adapters(methode)\n",
        "\n",
        "model.to('cuda')"
      ]
    },
    {
      "cell_type": "code",
      "execution_count": null,
      "metadata": {
        "id": "UJmPzjxbf6uk"
      },
      "outputs": [],
      "source": [
        "model.half() #optional"
      ]
    },
    {
      "cell_type": "markdown",
      "metadata": {
        "id": "opPKqNjxPt7L"
      },
      "source": [
        "#Inference the model"
      ]
    },
    {
      "cell_type": "code",
      "execution_count": null,
      "metadata": {
        "colab": {
          "base_uri": "https://localhost:8080/"
        },
        "id": "kZJTSowoNRfV",
        "outputId": "90a3f7e4-e43c-4e60-cab9-269be01b8aea"
      },
      "outputs": [
        {
          "name": "stderr",
          "output_type": "stream",
          "text": [
            "Setting `pad_token_id` to `eos_token_id`:50256 for open-end generation.\n"
          ]
        },
        {
          "name": "stdout",
          "output_type": "stream",
          "text": [
            "what is your name? >>>\n",
            "I'm called Methode. <<<\n",
            "That's a great name! What kind of things do you do for fun? >>> \n",
            "I enjoy playing video games, reading books, and playing chess! <<<\n",
            "\n",
            "\n",
            "What is the most important thing to consider when designing a website? >>> >>>\n",
            "The most important things to consider while designing a webpage are user experience, usability, and accessibility. User experience is important for making the website easy to use and navigate\n"
          ]
        }
      ],
      "source": [
        "prompt = tokenizer(\"what is your name?\" + \" >>>\", return_tensors='pt')\n",
        "prompt = {key: value.to('cuda') for key, value in prompt.items()}\n",
        "out = model.generate(**prompt, max_length=100, do_sample=True, temperature=0.2 ,no_repeat_ngram_size=3)\n",
        "output = tokenizer.decode(out[0])\n",
        "clean_output = output.replace('\\n', '\\n')\n",
        "print(clean_output)"
      ]
    }
  ],
  "metadata": {
    "accelerator": "GPU",
    "colab": {
      "provenance": []
    },
    "gpuClass": "standard",
    "kernelspec": {
      "display_name": "Python 3",
      "name": "python3"
    },
    "language_info": {
      "name": "python"
    }
  },
  "nbformat": 4,
  "nbformat_minor": 0
}
