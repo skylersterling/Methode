{
 "cells": [
  {
   "cell_type": "code",
   "execution_count": null,
   "id": "dba97348",
   "metadata": {},
   "outputs": [],
   "source": [
    "!pip install --quiet transformers datasets accelerate nvidia-ml-py3\n",
    "!pip install -U adapter-transformers"
   ]
  },
  {
   "cell_type": "code",
   "execution_count": 1,
   "id": "ce9c4473",
   "metadata": {},
   "outputs": [
    {
     "name": "stderr",
     "output_type": "stream",
     "text": [
      "/home/skyler/Desktop/yes/envs/transformers/lib/python3.10/site-packages/tqdm/auto.py:22: TqdmWarning: IProgress not found. Please update jupyter and ipywidgets. See https://ipywidgets.readthedocs.io/en/stable/user_install.html\n",
      "  from .autonotebook import tqdm as notebook_tqdm\n"
     ]
    }
   ],
   "source": [
    "from transformers import AutoTokenizer \n",
    "from transformers import Trainer, TrainingArguments, AutoModelWithLMHead\n",
    "from transformers import AutoModelForCausalLM\n",
    "\n",
    "model = AutoModelForCausalLM.from_pretrained(\"gpt2-xl\")\n",
    "tokenizer = AutoTokenizer.from_pretrained(\"gpt2-xl\")\n",
    "train_path = './YourDatasetHere.txt'"
   ]
  },
  {
   "cell_type": "code",
   "execution_count": 2,
   "id": "e7576c8a",
   "metadata": {},
   "outputs": [
    {
     "name": "stdout",
     "output_type": "stream",
     "text": [
      "\n",
      "\n",
      " Hello! <\n",
      "\n",
      " Greetings! My name is Methode, what would you like to do today? 😊 >\n",
      "\n",
      " I would like to talk about the Universe! About the stars and planets! <\n",
      "\n",
      " Wonderful! What is it about the stars that fascinates you the most? 😊 >\n",
      "\n"
     ]
    }
   ],
   "source": [
    "with open(train_path, 'r') as f:\n",
    "    for i in range(5):\n",
    "        line = f.readline()\n",
    "        print(line)"
   ]
  },
  {
   "cell_type": "code",
   "execution_count": 3,
   "id": "8d6cf69e",
   "metadata": {},
   "outputs": [],
   "source": [
    "# Add a new adapter\n",
    "model.add_adapter(\"methode\")\n",
    "# Add a matching classification head\n",
    "\n",
    "# Activate the adapter\n",
    "model.train_adapter(\"methode\")"
   ]
  },
  {
   "cell_type": "code",
   "execution_count": 4,
   "id": "1e38eb88",
   "metadata": {},
   "outputs": [
    {
     "name": "stderr",
     "output_type": "stream",
     "text": [
      "/home/skyler/Desktop/yes/envs/transformers/lib/python3.10/site-packages/transformers/data/datasets/language_modeling.py:54: FutureWarning: This dataset will be removed from the library soon, preprocessing should be handled with the 🤗 Datasets library. You can have a look at this example script for pointers: https://github.com/huggingface/transformers/blob/main/examples/pytorch/language-modeling/run_mlm.py\n",
      "  warnings.warn(\n"
     ]
    }
   ],
   "source": [
    "from transformers import TextDataset, DataCollatorForLanguageModeling\n",
    "\n",
    "def load_dataset(train_path, tokenizer):\n",
    "    train_dataset = TextDataset(\n",
    "          tokenizer=tokenizer,\n",
    "          file_path=train_path,\n",
    "          block_size=200\n",
    "          )\n",
    "          \n",
    "    data_collator = DataCollatorForLanguageModeling(\n",
    "        tokenizer=tokenizer, mlm=False,\n",
    "    )\n",
    "    return train_dataset, data_collator\n",
    "\n",
    "train_dataset, data_collator = load_dataset(train_path, tokenizer)"
   ]
  },
  {
   "cell_type": "code",
   "execution_count": 15,
   "id": "e25729e5",
   "metadata": {},
   "outputs": [
    {
     "name": "stderr",
     "output_type": "stream",
     "text": [
      "PyTorch: setting up devices\n",
      "The default value for the training argument `--report_to` will change in v5 (from all installed integrations to none). In v5, you will need to use `--report_to all` to get the same behavior as now. You should start updating your code and make this info disappear :-).\n"
     ]
    }
   ],
   "source": [
    "training_args = TrainingArguments(\n",
    "    output_dir=\"./bomba\",\n",
    "    overwrite_output_dir=True,\n",
    "    num_train_epochs=40,\n",
    "    per_device_train_batch_size=1,\n",
    "    save_total_limit=10,              # limit on the total number of checkpoints to save\n",
    "    gradient_accumulation_steps=1,\n",
    "    gradient_checkpointing=False,    #set the gradient_checkpointing=True, to recude vram usage\n",
    "    save_steps=4000,\n",
    "    #warmup_steps=500,\n",
    "    prediction_loss_only=True,\n",
    "    optim=\"adafactor\",\n",
    "    #optim=\"adafactor\"\n",
    "    #optim=\"sgd\"\n",
    "    logging_steps=50,\n",
    ")"
   ]
  },
  {
   "cell_type": "code",
   "execution_count": 17,
   "id": "a6950ad0",
   "metadata": {},
   "outputs": [],
   "source": [
    "from transformers import AdapterTrainer\n",
    "\n",
    "trainer = AdapterTrainer(\n",
    "        model=model,\n",
    "        args=training_args,\n",
    "        tokenizer=tokenizer,\n",
    "        train_dataset=train_dataset,\n",
    "        data_collator=data_collator, \n",
    "    )"
   ]
  },
  {
   "cell_type": "code",
   "execution_count": null,
   "id": "2b6e8087",
   "metadata": {},
   "outputs": [],
   "source": [
    "trainer.train()"
   ]
  },
  {
   "cell_type": "code",
   "execution_count": null,
   "id": "cea22dbf",
   "metadata": {},
   "outputs": [],
   "source": [
    "trainer.save_model()\n",
    "model.save_adapter(\"methode_adapter\", \"methode\")"
   ]
  },
  {
   "cell_type": "code",
   "execution_count": null,
   "id": "c1d4d146",
   "metadata": {},
   "outputs": [],
   "source": [
    "model.half()"
   ]
  },
  {
   "cell_type": "code",
   "execution_count": null,
   "id": "80b79595",
   "metadata": {},
   "outputs": [],
   "source": [
    "#model.to('cuda')\n",
    "prompt = tokenizer(\"Hello! Who are you? < \", return_tensors='pt')\n",
    "prompt = {key: value.to('cuda') for key, value in prompt.items()}\n",
    "out = model.generate(**prompt, min_length=90, max_length=200, do_sample=True, temperature=0.4 ,no_repeat_ngram_size=3)\n",
    "tokenizer.decode(out[0])"
   ]
  },
  {
   "cell_type": "code",
   "execution_count": null,
   "id": "ff0a6c7e",
   "metadata": {},
   "outputs": [],
   "source": [
    "generated_text = text_generator(\"I'm an AI with the purpose of\", max_length=100, num_return_sequences=1, temperature=0.8, do_sample=True, no_repeat_ngram_size=6, bad_words_ids=[[tokenizer(\"<<\")[\"input_ids\"][0]]])[0][\"generated_text\"]\n",
    "\n",
    "print(generated_text)"
   ]
  },
  {
   "cell_type": "markdown",
   "id": "7fad18b0",
   "metadata": {},
   "source": [
    "The End"
   ]
  }
 ],
 "metadata": {
  "kernelspec": {
   "display_name": "Transformers",
   "language": "python",
   "name": "transformers"
  },
  "language_info": {
   "codemirror_mode": {
    "name": "ipython",
    "version": 3
   },
   "file_extension": ".py",
   "mimetype": "text/x-python",
   "name": "python",
   "nbconvert_exporter": "python",
   "pygments_lexer": "ipython3",
   "version": "3.10.9"
  }
 },
 "nbformat": 4,
 "nbformat_minor": 5
}
